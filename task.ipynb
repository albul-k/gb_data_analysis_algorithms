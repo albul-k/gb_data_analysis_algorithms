{
 "metadata": {
  "language_info": {
   "codemirror_mode": {
    "name": "ipython",
    "version": 3
   },
   "file_extension": ".py",
   "mimetype": "text/x-python",
   "name": "python",
   "nbconvert_exporter": "python",
   "pygments_lexer": "ipython3",
   "version": "3.8.2-final"
  },
  "orig_nbformat": 2,
  "kernelspec": {
   "name": "python38232bit19c972126b724aac879ac112e9ba0e70",
   "display_name": "Python 3.8.2 32-bit",
   "language": "python"
  }
 },
 "nbformat": 4,
 "nbformat_minor": 2,
 "cells": [
  {
   "cell_type": "code",
   "execution_count": 9,
   "metadata": {},
   "outputs": [],
   "source": [
    "import numpy as np\n",
    "\n",
    "X = np.array([[1, 1, 1, 1, 1, 1, 1, 1, 1, 1],   # для умножения на intercept\n",
    "              [1, 1, 2, 1, 3, 0, 5, 10, 1, 2]]) # стаж\n",
    "\n",
    "# средний балл ЕГЭ (целевая переменная)\n",
    "y = [45, 55, 50, 59, 65, 35, 75, 80, 50, 60]"
   ]
  },
  {
   "cell_type": "code",
   "execution_count": 7,
   "metadata": {},
   "outputs": [],
   "source": [
    "def calc_mse(y, y_pred):\n",
    "    err = np.mean((y - y_pred)**2)\n",
    "    return err\n",
    "\n",
    "def calc_mae(y, y_pred):\n",
    "    err = np.mean(np.abs(y - y_pred))\n",
    "    return err"
   ]
  },
  {
   "source": [
    "1. Подберите скорость обучения (alpha) и количество итераций:"
   ],
   "cell_type": "markdown",
   "metadata": {}
  },
  {
   "cell_type": "code",
   "execution_count": 16,
   "metadata": {},
   "outputs": [
    {
     "output_type": "stream",
     "name": "stdout",
     "text": [
      "0 [2.102 3.9  ] 3173.15\n100 [31.88770806  6.74418155] 175.19445858001853\n200 [41.83683774  4.90699865] 61.9177717428135\n300 [45.33508261  4.26102097] 47.913169919666785\n400 [46.56511152  4.03388672] 46.181755648107604\n500 [46.99760587  3.95402334] 45.96769776787538\n600 [47.14967657  3.92594232] 45.941233404700036\n700 [47.20314662  3.91606866] 45.93796156758051\n800 [47.2219474   3.91259695] 45.93755706443538\n900 [47.228558    3.91137626] 45.937507054979434\n"
     ]
    }
   ],
   "source": [
    "n = X.shape[1]\n",
    "# alpha = 1e-3\n",
    "alpha = 1e-2\n",
    "w = np.array([1, 0.5])\n",
    "\n",
    "for i in range(1000):\n",
    "    y_pred = np.dot(w, X)\n",
    "    err = calc_mse(y, y_pred)\n",
    "    for j in range(w.shape[0]):\n",
    "        w[j] -= alpha * (1/n * 2 * np.sum(X[j] * (y_pred - y)))\n",
    "    if i % 100 == 0:\n",
    "        print(i, w, err)"
   ]
  },
  {
   "source": [
    "*2. В этом коде мы избавляемся от итераций по весам, но тут есть ошибка, исправьте ее:"
   ],
   "cell_type": "markdown",
   "metadata": {}
  },
  {
   "cell_type": "code",
   "execution_count": 27,
   "metadata": {},
   "outputs": [
    {
     "output_type": "stream",
     "name": "stdout",
     "text": [
      "0 [2.102 3.9  ] 3173.15\n100 [31.88770806  6.74418155] 175.19445858001842\n200 [41.83683774  4.90699865] 61.9177717428135\n300 [45.33508261  4.26102097] 47.913169919666785\n400 [46.56511152  4.03388672] 46.181755648107604\n500 [46.99760587  3.95402334] 45.96769776787538\n600 [47.14967657  3.92594232] 45.941233404700036\n700 [47.20314662  3.91606866] 45.93796156758051\n800 [47.2219474   3.91259695] 45.93755706443538\n900 [47.228558    3.91137626] 45.937507054979434\n"
     ]
    }
   ],
   "source": [
    "n = X.shape[1]\n",
    "# alpha = 1e-3\n",
    "alpha = 1e-2\n",
    "w = np.array([1, 0.5])\n",
    "\n",
    "for i in range(1000):\n",
    "    y_pred = np.dot(w, X)\n",
    "    err = calc_mse(y, y_pred)\n",
    "    '''for j in range(W.shape[0]):\n",
    "        W[j] -= alpha * (1/n * 2 * np.sum(X[j] * (y_pred - y)))'''\n",
    "    # w -= (alpha * (1/n * 2 * np.sum(X * (y_pred - y))))\n",
    "    w -= (alpha * (1/n * 2 * np.dot(X, (np.dot(w, X) - y))))\n",
    "    if i % 100 == 0:\n",
    "        print(i, w, err)"
   ]
  },
  {
   "source": [
    "*3. Вместо того, чтобы задавать количество итераций, задайте условие остановки алгоритма - когда ошибка за итерацию начинает изменяться ниже определенного порога"
   ],
   "cell_type": "markdown",
   "metadata": {}
  },
  {
   "cell_type": "code",
   "execution_count": 37,
   "metadata": {},
   "outputs": [
    {
     "output_type": "execute_result",
     "data": {
      "text/plain": [
       "1.0"
      ]
     },
     "metadata": {},
     "execution_count": 37
    }
   ],
   "source": [
    "from scipy.optimize import fsolve\n",
    "import numpy as np\n",
    "import matplotlib.pyplot as plt\n",
    "\n",
    "#Задача 1\n",
    "fsolve(lambda x: 2**x - 256, 1, xtol=1e-3)[0] \n",
    "# Check"
   ]
  }
 ]
}